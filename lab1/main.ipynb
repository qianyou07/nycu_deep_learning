{
 "cells": [
  {
   "cell_type": "markdown",
   "id": "7c34fd1c",
   "metadata": {},
   "source": [
    "### Data generator"
   ]
  },
  {
   "cell_type": "code",
   "execution_count": 15,
   "id": "0a89bd36",
   "metadata": {},
   "outputs": [],
   "source": [
    "def generate_linear(n=100):\n",
    "    import numpy as np\n",
    "    pts = np.random.uniform(0, 1, (n, 2))\n",
    "    inputs = []\n",
    "    labels = []\n",
    "    for pt in pts:\n",
    "        inputs.append([pt[0], pt[1]])\n",
    "        distance = (pt[0]-pt[1])/1.414\n",
    "        if pt[0] > pt[1]:\n",
    "            labels.append(0)\n",
    "        else:\n",
    "            labels.append(1)\n",
    "    return np.array(inputs), np.array(labels).reshape(n, 1)\n",
    "\n",
    "def generate_XOR_easy():\n",
    "    import numpy as np\n",
    "    inputs = []\n",
    "    labels = []\n",
    "    \n",
    "    for i in range(11):\n",
    "        inputs.append([0.1*i, 0.1*i])\n",
    "        labels.append(0)\n",
    "        \n",
    "        if 0.1*i == 0.5:\n",
    "            continue\n",
    "            \n",
    "        inputs.append([0.1*i, 1-0.1*i])\n",
    "        labels.append(1)\n",
    "        \n",
    "    return np.array(inputs), np.array(labels).reshape(21, 1)"
   ]
  },
  {
   "cell_type": "markdown",
   "id": "f6b76478",
   "metadata": {},
   "source": [
    "### Activation function"
   ]
  },
  {
   "cell_type": "code",
   "execution_count": 16,
   "id": "6b54e0cc",
   "metadata": {},
   "outputs": [],
   "source": [
    "import numpy as np\n",
    "\n",
    "def sigmoid(x):\n",
    "    return 1.0/(1.0 + np.exp(-x))\n",
    "\n",
    "def derivative_sigmoid(x):\n",
    "    return np.multiply(x, 1.0-x)\n",
    "\n",
    "def leakyrelu(x, alpha):\n",
    "    return np.maximum(alpha*x, x)\n",
    "\n",
    "def derivative_leakyrelu(x, alpha):\n",
    "    return np.where(x>0, 1, alpha)\n",
    "\n",
    "def tanh(x):\n",
    "    return (np.exp(x) - np.exp(-x)) / (np.exp(x) + np.exp(-x))\n",
    "\n",
    "def derivative_tanh(x):\n",
    "    return 1 - x**2"
   ]
  },
  {
   "cell_type": "markdown",
   "id": "658f88ba",
   "metadata": {},
   "source": [
    "### Loss function"
   ]
  },
  {
   "cell_type": "code",
   "execution_count": 17,
   "id": "0746f81e",
   "metadata": {},
   "outputs": [],
   "source": [
    "def MSE(y, pred_y):\n",
    "    return np.mean((y-pred_y)**2)\n",
    "\n",
    "def derivative_MSE(y, pred_y):\n",
    "    return 2 * (pred_y-y) / y.shape[0]"
   ]
  },
  {
   "cell_type": "markdown",
   "id": "1756b9c4",
   "metadata": {},
   "source": [
    "### Layer"
   ]
  },
  {
   "cell_type": "code",
   "execution_count": 18,
   "id": "0bdb9be9",
   "metadata": {},
   "outputs": [],
   "source": [
    "class layer:\n",
    "    def __init__(self, input_dim, output_dim, act_func):\n",
    "        np.random.seed(311552007)\n",
    "        self.w = np.random.rand(input_dim, output_dim)\n",
    "        self.act_func = act_func\n",
    "        \n",
    "    def forward(self, x):\n",
    "        self.input = x\n",
    "        self.output = x @ self.w\n",
    "        if self.act_func == \"sigmoid\":\n",
    "            self.act_out = sigmoid(self.output)\n",
    "        elif self.act_func == \"leakyrelu\":\n",
    "            self.act_out = leakyrelu(self.output, 0.2)\n",
    "        elif self.act_func == \"tanh\":\n",
    "            self.act_out = tanh(self.output)\n",
    "        elif self.act_func == \"none\":\n",
    "            self.act_out = self.output\n",
    "            \n",
    "        return self.act_out\n",
    "        \n",
    "    def backward(self, grad_loss):\n",
    "        if self.act_func == \"sigmoid\":\n",
    "            tmp = derivative_sigmoid(self.act_out) * grad_loss\n",
    "        elif self.act_func == \"leakyrelu\":\n",
    "            tmp = derivative_leakyrelu(self.output, 0.2) * grad_loss\n",
    "        elif self.act_func == \"tanh\":\n",
    "            tmp = derivative_tanh(self.act_out) * grad_loss\n",
    "        elif self.act_func == \"none\":\n",
    "            tmp = grad_loss\n",
    "        self.grad = self.input.T @ tmp\n",
    "        return tmp @ self.w.T\n",
    "        "
   ]
  },
  {
   "cell_type": "markdown",
   "id": "4cb734a4",
   "metadata": {},
   "source": [
    "### Neural network"
   ]
  },
  {
   "cell_type": "code",
   "execution_count": 19,
   "id": "f5114262",
   "metadata": {},
   "outputs": [],
   "source": [
    "class nn:\n",
    "    def __init__(self, num_layer=2, input_dim=2, output_dim=1, hidden_dim=[10, 10], act_func='sigmoid'):\n",
    "        size = list(map(int, str(input_dim)))+hidden_dim+list(map(int, str(output_dim)))\n",
    "        self.layers = [layer(size[i], size[i+1], act_func) for i in range(num_layer+1)]\n",
    "        \n",
    "    def forward(self, x):\n",
    "        for i in range(len(self.layers)):\n",
    "            x = self.layers[i].forward(x)\n",
    "        return x\n",
    "\n",
    "    def backward(self, grad_loss):\n",
    "        for i in range(len(self.layers))[::-1]:\n",
    "            grad_loss = self.layers[i].backward(grad_loss)\n",
    "            \n",
    "    def parameters(self):\n",
    "        return self.layers"
   ]
  },
  {
   "cell_type": "markdown",
   "id": "f84ba9ba",
   "metadata": {},
   "source": [
    "### Optimizer"
   ]
  },
  {
   "cell_type": "code",
   "execution_count": 20,
   "id": "f70803c6",
   "metadata": {},
   "outputs": [],
   "source": [
    "class optim:\n",
    "    def __init__(self, parameters, args):\n",
    "        self.optimizer = args.optimizer\n",
    "        self.layers = parameters\n",
    "        if self.optimizer == 'gd':\n",
    "            self.lr = args.lr\n",
    "        elif self.optimizer == 'adam':\n",
    "            self.beta1 = args.beta1\n",
    "            self.beta2 = args.beta2\n",
    "            self.eps = args.eps\n",
    "            self.lr = args.lr\n",
    "            self.m = [0 for i in range(len(self.layers))]\n",
    "            self.v = [0 for i in range(len(self.layers))]\n",
    "            self.t = 1\n",
    "        \n",
    "    def step(self):\n",
    "        for i in range(len(self.layers)):\n",
    "            if self.optimizer == 'gd':\n",
    "                self.layers[i].w -= self.layers[i].grad * self.lr\n",
    "            elif self.optimizer == 'adam':\n",
    "                self.m[i] = (self.beta1 * self.m[i] + (1 - self.beta1) * self.layers[i].grad)\n",
    "                self.v[i] = (self.beta2 * self.v[i] + (1 - self.beta2) * (self.layers[i].grad**2))\n",
    "                m_hat = self.m[i] / (1-self.beta1**self.t)\n",
    "                v_hat = self.v[i] / (1-self.beta2**self.t)\n",
    "                self.layers[i].w -= self.lr * (m_hat / (self.eps + np.sqrt(v_hat)))\n",
    "        if self.optimizer == 'adam':\n",
    "            self.t += 1"
   ]
  },
  {
   "cell_type": "code",
   "execution_count": 21,
   "id": "24e47a47",
   "metadata": {},
   "outputs": [],
   "source": [
    "def train(model, x, y, args):\n",
    "    losses = []\n",
    "    epochs = []\n",
    "    optimizer = optim(model.parameters(), args)\n",
    "    for epoch in range(args.epochs):\n",
    "        pred_y = model.forward(x)\n",
    "        loss = MSE(y, pred_y)\n",
    "        model.backward(derivative_MSE(y, pred_y))\n",
    "        optimizer.step()\n",
    "        \n",
    "        losses.append(loss)\n",
    "        epochs.append(epoch)\n",
    "        \n",
    "        if loss <= args.threshold:\n",
    "            print('epoch {} loss : {:.5f}'.format(epoch, loss))\n",
    "            print('Early terminate!')\n",
    "            break\n",
    "        elif epoch % args.interval == 0:\n",
    "            print('epoch {} loss : {:.5f}'.format(epoch, loss))\n",
    "\n",
    "    return losses, epochs\n",
    "            \n",
    "def test(model, x, y):\n",
    "    pred_y = model.forward(x)\n",
    "    acc = (((pred_y>=0.5)==y).sum() * 100) / y.shape[0]\n",
    "    for i in range(y.shape[0]):\n",
    "        print('Case {}\\t| Ground truth: {} | Prediction: {:.5f}'.format(i, y[i].item(), pred_y[i].item()))\n",
    "    print('accuracy: {:.2f}%'.format(acc))\n",
    "    return (pred_y>=0.5)"
   ]
  },
  {
   "cell_type": "markdown",
   "id": "f2882318",
   "metadata": {},
   "source": [
    "### Training"
   ]
  },
  {
   "cell_type": "code",
   "execution_count": 28,
   "id": "6d2a86a6",
   "metadata": {},
   "outputs": [
    {
     "name": "stdout",
     "output_type": "stream",
     "text": [
      "Start training model 1...\n",
      "epoch 0 loss : 0.51858\n",
      "epoch 5000 loss : 0.24943\n",
      "epoch 10000 loss : 0.24928\n",
      "epoch 15000 loss : 0.24905\n",
      "epoch 20000 loss : 0.24853\n",
      "epoch 25000 loss : 0.24674\n",
      "epoch 30000 loss : 0.23655\n",
      "epoch 35000 loss : 0.17673\n",
      "epoch 40000 loss : 0.06321\n",
      "epoch 45000 loss : 0.03182\n",
      "epoch 48292 loss : 0.02000\n",
      "Early terminate!\n",
      "--------------------------------------\n"
     ]
    }
   ],
   "source": [
    "import argparse\n",
    "\n",
    "def get_parser():\n",
    "    parser = argparse.ArgumentParser()\n",
    "    parser.add_argument('--lr', default='1e-2', type=float, help='learning rate')\n",
    "    parser.add_argument('--act', default='sigmoid', type=str, help='activation function')\n",
    "    parser.add_argument('--epochs', default='1000000', type=int, help='maximum epochs')\n",
    "    parser.add_argument('--interval', default='5000', type=int, help='print interval')\n",
    "    parser.add_argument('--threshold', default='2e-2', type=float, help='early terminate threshold')\n",
    "    parser.add_argument('--optimizer', default='gd', type=str, help='optimizer')\n",
    "    parser.add_argument('--beta1', default='0.9', type=float, help='adam optimizer args')\n",
    "    parser.add_argument('--beta2', default='0.999', type=float, help='adam optimizer args')\n",
    "    parser.add_argument('--eps', default='1e-8', type=float, help='adam optimizer args')\n",
    "    \n",
    "    return parser\n",
    "\n",
    "\n",
    "parser = get_parser()\n",
    "args = []\n",
    "args.append(parser.parse_args(args=['--lr', '1e-1', '--act', 'sigmoid', '--epochs', '1000000', '--interval', '5000', '--threshold', '2e-2', '--optimizer', 'gd', '--beta1', '0.9', '--beta2', '0.999', '--eps', '1e-8']))\n",
    "x, y = generate_XOR_easy()\n",
    "\n",
    "models = []\n",
    "losses, epochs = [], []\n",
    "for i in range(len(args)):\n",
    "    print(\"Start training model \" + str(i+1) + \"...\")\n",
    "    models.append(nn(act_func=args[i].act))\n",
    "    loss, epoch = train(models[i], x, y, args[i])\n",
    "    losses.append(loss)\n",
    "    epochs.append(epoch)\n",
    "    print(\"--------------------------------------\")"
   ]
  },
  {
   "cell_type": "markdown",
   "id": "201c2545",
   "metadata": {},
   "source": [
    "### Testing"
   ]
  },
  {
   "cell_type": "code",
   "execution_count": 29,
   "id": "6922ce23",
   "metadata": {},
   "outputs": [
    {
     "name": "stdout",
     "output_type": "stream",
     "text": [
      "Start testing model 1...\n",
      "Case 0\t| Ground truth: 0 | Prediction: 0.00089\n",
      "Case 1\t| Ground truth: 1 | Prediction: 0.99890\n",
      "Case 2\t| Ground truth: 0 | Prediction: 0.00475\n",
      "Case 3\t| Ground truth: 1 | Prediction: 0.99835\n",
      "Case 4\t| Ground truth: 0 | Prediction: 0.03319\n",
      "Case 5\t| Ground truth: 1 | Prediction: 0.99612\n",
      "Case 6\t| Ground truth: 0 | Prediction: 0.13484\n",
      "Case 7\t| Ground truth: 1 | Prediction: 0.97475\n",
      "Case 8\t| Ground truth: 0 | Prediction: 0.24225\n",
      "Case 9\t| Ground truth: 1 | Prediction: 0.64742\n",
      "Case 10\t| Ground truth: 0 | Prediction: 0.25025\n",
      "Case 11\t| Ground truth: 0 | Prediction: 0.18424\n",
      "Case 12\t| Ground truth: 1 | Prediction: 0.67895\n",
      "Case 13\t| Ground truth: 0 | Prediction: 0.10928\n",
      "Case 14\t| Ground truth: 1 | Prediction: 0.97784\n",
      "Case 15\t| Ground truth: 0 | Prediction: 0.05872\n",
      "Case 16\t| Ground truth: 1 | Prediction: 0.99339\n",
      "Case 17\t| Ground truth: 0 | Prediction: 0.03154\n",
      "Case 18\t| Ground truth: 1 | Prediction: 0.99430\n",
      "Case 19\t| Ground truth: 0 | Prediction: 0.01792\n",
      "Case 20\t| Ground truth: 1 | Prediction: 0.99301\n",
      "accuracy: 100.00%\n",
      "--------------------------------------\n"
     ]
    }
   ],
   "source": [
    "predicts = []\n",
    "\n",
    "for i in range(len(args)):\n",
    "    print(\"Start testing model \" + str(i+1) + \"...\")\n",
    "    predicts.append(test(models[i], x, y))\n",
    "    print(\"--------------------------------------\")"
   ]
  },
  {
   "cell_type": "code",
   "execution_count": 30,
   "id": "6c0f0c2c",
   "metadata": {},
   "outputs": [],
   "source": [
    "def learning_curve(losses, epochs):\n",
    "    import matplotlib.pyplot as plt\n",
    "    plt.subplots(1)\n",
    "    plt.title('Learning curve', fontsize=32)\n",
    "    for i in range(len(losses)):\n",
    "        plt.plot(epochs[i], losses[i])\n",
    "    plt.xlabel(\"Epochs\"), plt.ylabel(\"Loss\")\n",
    "    plt.legend(['GD'], loc='best')\n",
    "    plt.ticklabel_format(style='plain', axis='x')\n",
    "    plt.show()"
   ]
  },
  {
   "cell_type": "code",
   "execution_count": 31,
   "id": "bc547cc7",
   "metadata": {},
   "outputs": [],
   "source": [
    "def show_result(x, y, pred_y):\n",
    "    import matplotlib.pyplot as plt\n",
    "    plt.subplot(1,2,1)\n",
    "    plt.title('Ground truth', fontsize=18)\n",
    "    for i in range(x.shape[0]):\n",
    "        if y[i] == 0:\n",
    "            plt.plot(x[i][0], x[i][1], 'ro')\n",
    "        else:\n",
    "            plt.plot(x[i][0], x[i][1], 'bo')\n",
    "    \n",
    "    plt.subplot(1,2,2)\n",
    "    plt.title('Predict result', fontsize=18)\n",
    "    for i in range(x.shape[0]):\n",
    "        if pred_y[i] == 0:\n",
    "            plt.plot(x[i][0], x[i][1], 'ro')\n",
    "        else:\n",
    "            plt.plot(x[i][0], x[i][1], 'bo')\n",
    "            \n",
    "    plt.show()"
   ]
  },
  {
   "cell_type": "markdown",
   "id": "f85ea54b",
   "metadata": {},
   "source": [
    "### Compare result"
   ]
  },
  {
   "cell_type": "code",
   "execution_count": 32,
   "id": "94078fad",
   "metadata": {},
   "outputs": [
    {
     "name": "stdout",
     "output_type": "stream",
     "text": [
      "Model 1:\n"
     ]
    },
    {
     "data": {
      "image/png": "[encoded data removed]",
      "text/plain": [
       "<Figure size 432x288 with 2 Axes>"
      ]
     },
     "metadata": {
      "needs_background": "light"
     },
     "output_type": "display_data"
    }
   ],
   "source": [
    "for i in range(len(args)):\n",
    "    print(\"Model \" + str(i+1) + \":\")\n",
    "    show_result(x, y, predicts[i])\n"
   ]
  },
  {
   "cell_type": "markdown",
   "id": "b4c39c7d",
   "metadata": {},
   "source": [
    "### Learning curve"
   ]
  },
  {
   "cell_type": "code",
   "execution_count": 33,
   "id": "229ecdab",
   "metadata": {},
   "outputs": [
    {
     "data": {
      "image/png": "[encoded data removed]",
      "text/plain": [
       "<Figure size 432x288 with 1 Axes>"
      ]
     },
     "metadata": {
      "needs_background": "light"
     },
     "output_type": "display_data"
    }
   ],
   "source": [
    "learning_curve(losses, epochs)"
   ]
  },
  {
   "cell_type": "code",
   "execution_count": null,
   "id": "ecdd1e3e",
   "metadata": {},
   "outputs": [],
   "source": []
  }
 ],
 "metadata": {
  "kernelspec": {
   "display_name": "Python 3 (ipykernel)",
   "language": "python",
   "name": "python3"
  },
  "language_info": {
   "codemirror_mode": {
    "name": "ipython",
    "version": 3
   },
   "file_extension": ".py",
   "mimetype": "text/x-python",
   "name": "python",
   "nbconvert_exporter": "python",
   "pygments_lexer": "ipython3",
   "version": "3.9.7"
  }
 },
 "nbformat": 4,
 "nbformat_minor": 5
}
